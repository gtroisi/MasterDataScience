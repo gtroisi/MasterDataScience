{
 "metadata": {
  "language_info": {
   "codemirror_mode": {
    "name": "ipython",
    "version": 3
   },
   "file_extension": ".py",
   "mimetype": "text/x-python",
   "name": "python",
   "nbconvert_exporter": "python",
   "pygments_lexer": "ipython3",
   "version": "3.8.5"
  },
  "orig_nbformat": 2,
  "kernelspec": {
   "name": "python385jvsc74a57bd015bdf38925abaa5ac067bf5f7dc1c50a66a56b17fc7f035e9c64d21e813f403e",
   "display_name": "Python 3.8.5 64-bit ('datascience': conda)"
  }
 },
 "nbformat": 4,
 "nbformat_minor": 2,
 "cells": [
  {
   "source": [
    "# Things to know before starting\n",
    "1. This code can analyze 564 different cryptocurrencies (listed in *symbol_list.csv* file included in the same directory of **this Notebook**). If an illegal currency is called, a ValueError exception will be raised;\n",
    "2. In order to run the code, you must **install** ***mplfinance*** module;\n",
    "3. You must initialize the analysis by setting API-KEY and the type of trading (daily, weekly, monthly). These settings are defined into *const-init.json* file (defaults are set). This file is included in the same directory of **this Notebook**;\n",
    "4. Dataset from AlphaVantage Client has some minor bugs for the market capitalization."
   ],
   "cell_type": "markdown",
   "metadata": {}
  },
  {
   "source": [
    "# Import modules\n",
    "*built-in* and *external* modules import.\n"
   ],
   "cell_type": "markdown",
   "metadata": {}
  },
  {
   "cell_type": "code",
   "execution_count": null,
   "metadata": {},
   "outputs": [],
   "source": [
    "from IPython.display import display\n",
    "from package import extractor, analyzer, charts"
   ]
  },
  {
   "source": [
    "# Data import (*extractor* module)\n",
    "Data in *json* format are downloaded through *AlphaVantage API*.\n",
    "Then, json data are converted to a Dataframe by means of **pandas** library.\n",
    "Lastly, Dataframe is \"cleaned\" to best fit the right Data Structure."
   ],
   "cell_type": "markdown",
   "metadata": {}
  },
  {
   "cell_type": "code",
   "execution_count": null,
   "metadata": {},
   "outputs": [],
   "source": [
    "BTC  = extractor.create_df(\"BTC\",  \"EUR\")\n",
    "DOGE = extractor.create_df(\"DOGE\", \"EUR\")\n",
    "ETH  = extractor.create_df(\"ETH\",  \"EUR\")"
   ]
  },
  {
   "source": [
    "By setting *TryError* boolean to **True**, the following expression will raise a ValueError."
   ],
   "cell_type": "markdown",
   "metadata": {}
  },
  {
   "cell_type": "code",
   "execution_count": null,
   "metadata": {},
   "outputs": [],
   "source": [
    "TryError = False\n",
    "if TryError:\n",
    "    ETHH  = extractor.create_df(\"ETHH\",  \"EUR\") "
   ]
  },
  {
   "source": [
    "## DataFrame Displaying\n",
    "When *df_isvisible* is equal to **True**, dataframes will be displayed below:\n"
   ],
   "cell_type": "markdown",
   "metadata": {}
  },
  {
   "cell_type": "code",
   "execution_count": null,
   "metadata": {},
   "outputs": [],
   "source": [
    "df_isvisible = True\n",
    "\n",
    "if df_isvisible:\n",
    "    analyzer.disp(BTC)\n",
    "    analyzer.disp(DOGE)\n",
    "    analyzer.disp(ETH)"
   ]
  },
  {
   "cell_type": "code",
   "execution_count": null,
   "metadata": {},
   "outputs": [],
   "source": []
  },
  {
   "source": [
    "# PostProcessing\n",
    "\n",
    "## Statistical analysis (*analyzer* module)\n",
    "A statistical analysis will be made in order to:\n",
    "- Check of the highest price ever (ATH: All Time High) [it accepts a *Dataframe*];\n",
    "- Evaluate the percentage variation [it accepts a **List** of *Dataframe*];\n",
    "- Evaluate the correlation between value and market capitalization [it accepts a *Dataframe*].\n"
   ],
   "cell_type": "markdown",
   "metadata": {}
  },
  {
   "cell_type": "code",
   "execution_count": null,
   "metadata": {},
   "outputs": [],
   "source": [
    "analyzer.ath(BTC)\n",
    "analyzer.ath(DOGE)\n",
    "analyzer.ath(ETH)\n",
    "\n",
    "analyzer.variation([BTC, ETH, DOGE])\n",
    "\n",
    "analyzer.correlation(BTC)\n",
    "analyzer.correlation(DOGE)\n",
    "analyzer.correlation(ETH)\n",
    "\n",
    "analyzer.stat_func(BTC)\n",
    "analyzer.stat_func(DOGE)\n",
    "analyzer.stat_func(ETH)\n"
   ]
  },
  {
   "source": [
    "## Graphical Analysis (*charts* module)\n",
    "\n",
    "Following trends will be investigated:\n",
    "- Price variation\n",
    "- Market Capitalization Trending\n",
    "- Candlestick Charts\n",
    "\n",
    "All of the functions below are expecting:\n",
    "- a *Dataframe* (or **List** of *Dataframe* for Multiple linear_chart) \\[**Mandatory**\\],\n",
    "- the *time window* \\[**Optional**\\]."
   ],
   "cell_type": "markdown",
   "metadata": {}
  },
  {
   "cell_type": "code",
   "execution_count": null,
   "metadata": {},
   "outputs": [],
   "source": [
    "charts.create_candle_chart(BTC, 30)\n",
    "charts.create_single_linear_chart(BTC, 200)\n",
    "charts.create_multiple_linear_chart([BTC, ETH, DOGE], 90)\n",
    "charts.create_frequency_chart(BTC, 90)"
   ]
  }
 ]
}